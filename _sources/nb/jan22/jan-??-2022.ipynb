{
 "cells": [
  {
   "cell_type": "markdown",
   "id": "792db3af",
   "metadata": {},
   "source": [
    "# Jan ??, 2022 (title)\n",
    "\n",
    "**Motivation**: What is this update about?  What was the motivation? Main findings? Put a brief summary here.  <br>"
   ]
  },
  {
   "cell_type": "code",
   "execution_count": 1,
   "id": "3405f079",
   "metadata": {
    "tags": [
     "hide-input"
    ]
   },
   "outputs": [],
   "source": [
    "# HIDE CODE\n",
    "\n",
    "# Imports\n",
    "import networkx as nx\n",
    "from os.path import join as pjoin\n",
    "from myterial import orange, blue_grey\n",
    "from IPython.display import display, IFrame, HTML\n",
    "from matplotlib.colors import rgb2hex, to_rgb\n",
    "import matplotlib.pyplot as plt\n",
    "import seaborn as sns"
   ]
  },
  {
   "cell_type": "code",
   "execution_count": null,
   "id": "2a3671a1",
   "metadata": {},
   "outputs": [],
   "source": []
  }
 ],
 "metadata": {
  "kernelspec": {
   "display_name": "Python 3",
   "language": "python",
   "name": "python3"
  },
  "language_info": {
   "codemirror_mode": {
    "name": "ipython",
    "version": 3
   },
   "file_extension": ".py",
   "mimetype": "text/x-python",
   "name": "python",
   "nbconvert_exporter": "python",
   "pygments_lexer": "ipython3",
   "version": "3.8.3"
  }
 },
 "nbformat": 4,
 "nbformat_minor": 5
}
