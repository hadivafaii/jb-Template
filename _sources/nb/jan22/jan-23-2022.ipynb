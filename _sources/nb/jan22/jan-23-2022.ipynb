{
 "cells": [
  {
   "cell_type": "markdown",
   "id": "792db3af",
   "metadata": {},
   "source": [
    "# Jan 23rd, 2022 (jb tutorial)\n",
    "\n",
    "**Motivation**: Here I will describe in detail how to organize your projects using jupyter books.  I have also prepared a template that you can use as a starting point (download link below).  <br>"
   ]
  },
  {
   "cell_type": "markdown",
   "id": "76830f79",
   "metadata": {},
   "source": [
    "## Installation\n",
    "\n",
    "First we need to install a few things.\n",
    "\n",
    "### 1) jupyer-book\n",
    "\n",
    "- pip installation\n",
    "```Bash\n",
    "pip3 install -U jupyter-book\n",
    "```\n",
    "- Or if you use anaconda:\n",
    "```Bash\n",
    "conda install -c conda-forge jupyter-book\n",
    "```\n",
    "\n",
    "### 2) jupyter notebook\n",
    "For this, you can just install JupyterLab which will eventually replace the classic jupyter notebook:\n",
    "\n",
    "- pip\n",
    "```Bash\n",
    "pip3 install jupyterlab\n",
    "```\n",
    "- anaconda:\n",
    "```Bash\n",
    "conda install -c conda-forge jupyterlab\n",
    "```\n",
    "\n",
    "### 3) ghp-import\n",
    "\n",
    "Used to upload our book to GitHub.\n",
    "\n",
    "```Bash\n",
    "pip3 install ghp-import\n",
    "```\n",
    "\n",
    "## Making a book\n",
    "\n",
    "Simply copy your notebook or markdown files into organized directories and run the following command:\n",
    "\n",
    "```Bash\n",
    "jupyter-book build [dir]\n",
    "```\n",
    "Here ```[dir]``` is the book directory.  This will become clear below.\n",
    "\n",
    "### Organizing the book\n",
    "\n",
    "There are two ```yml``` files that you need to know about:\n",
    "- ```_toc.yml```: Build a table of contents for the book.\n",
    "- ```_config.yml```: Customize the book, title, logo, etc.\n",
    "\n",
    "Check out the included template below to see how these work.  In this example, I have two folders called ```nb``` for notebook and ```md``` for markdown updates.  Whenever I make new progress, I usually add it to the ```nb``` folder, which is further organized by month.\n",
    "\n",
    "## Template\n",
    "\n",
    "<a href=\"../../_extras/template.zip\">Click here to download the template.</a>\n",
    "\n",
    "## Uploading to GitHub\n",
    "\n",
    "Let's now go over how to host the book on GitHub.  \n",
    "\n",
    "- First, log in to GitHub, then go to \"create a new repository\".  In this example I named it ```jb-template```.\n",
    "- Navigate to a directory where you want to store the book and clone the repo.  For example:\n",
    "```Bash\n",
    "cd ~/Dropbox/git/\n",
    "git clone https://github.com/hadivafaii/jb-template.git\n",
    "```\n",
    "- Unzip and copy the content of ```template.zip``` inside the empty ```/jb-template``` directory.\n",
    "- Now we define aliases for building and pushing the book.  Makes it a lot easier.  Open ```.bashrc``` using your favorite text editor and add the two alias lines, save, and close.  Then reload ```.bashrc``` to apply these changes.  Here are the steps:\n",
    "```Bash\n",
    "nano ~/.bashrc\n",
    "```\n",
    "```Bash\n",
    "alias jb_build='jupyter-book build $HOME/Dropbox/git/jb-template/; rsync -ar $HOME/Dropbox/git/jb-template/_extras $HOME/Dropbox/git/jb-template/_build/html/'\n",
    "alias jb_push='cd $HOME/Dropbox/git/jb-template; ghp-import -n -p -f _build/html'\n",
    "```\n",
    "```Bash\n",
    "source ~/.bashrc\n",
    "```\n",
    "\n",
    "That's it!  Now you can add new notebooks to the project and publish the updates which makes them available online.  To do this, simply edit ```_toc.yml``` and add the notebook name there.  Then run ```jb_build``` followed by ```jb_push``` to build and upload your book.  After about 10-15 mins your book should be online.  In this example, the URL is [https://hadivafaii.github.io/jb-template](https://hadivafaii.github.io/jb-template)"
   ]
  },
  {
   "cell_type": "markdown",
   "id": "853b2bcf",
   "metadata": {},
   "source": [
    "## Uploading files\n",
    "\n",
    "You might wonder why I have included a folder called ```_extras``` in the project.  This is to store small files such as PDFs or other files that I might want to include in my reports.  For example, I have uploaded a jpg image in ```_extras``` that I can embed in markdown using simple ```HTML``` code.\n",
    "\n",
    "Code:\n",
    "```HTML\n",
    "<img src=\"../../_extras/neuron.jpg\" title=\"This is a Neuron\" alt=\"null\" width=\"350\"/>\n",
    "```\n",
    "\n",
    "Result:\n",
    "\n",
    "<br>\n",
    "<img src=\"../../_extras/neuron.jpg\" title=\"This is a Neuron\" alt=\"null\" width=\"350\"/>\n",
    "<br>\n",
    "<br>\n",
    "\n",
    "You can embed other file formats such as videos, GIFs, HTML and so on.  It's pretty awesome."
   ]
  },
  {
   "cell_type": "markdown",
   "id": "f133e73e",
   "metadata": {
    "tags": [
     "hide-input"
    ]
   },
   "source": [
    "## Hiding code\n",
    "\n",
    "Sometimes we have a large chunk of code that reduces readability of the book.  For instance:\n",
    "\n",
    "```Python\n",
    "import networkx as nx\n",
    "from os.path import join as pjoin\n",
    "from myterial import orange, blue_grey\n",
    "from IPython.display import display, IFrame, HTML\n",
    "from matplotlib.colors import rgb2hex, to_rgb\n",
    "import matplotlib.pyplot as plt\n",
    "import seaborn as sns\n",
    "```\n",
    "\n",
    "In the template, I have included another notebook called ```_tag.ipynb``` that you can use to hide code blocks.  To do this, add a line ```# HIDE CODE``` on top of any cell that you want to hide and run ```_tag.ipynb```.\n",
    "\n",
    "For example, compare the two cells below.  One of them has the ```# HIDE CODE``` tag, the other doesn't.  As a result, when I publish the book online you will see a little plus button that says \"Click to show\".  You can click on it to reveal the code content of the hidden cell."
   ]
  },
  {
   "cell_type": "code",
   "execution_count": 1,
   "id": "5ba4a042",
   "metadata": {
    "tags": [
     "hide-input"
    ]
   },
   "outputs": [],
   "source": [
    "# HIDE CODE\n",
    "\n",
    "# This cell will be hidden\n",
    "import networkx as nx\n",
    "from os.path import join as pjoin\n",
    "from myterial import orange, blue_grey\n",
    "from IPython.display import display, IFrame, HTML\n",
    "from matplotlib.colors import rgb2hex, to_rgb\n",
    "import matplotlib.pyplot as plt\n",
    "import seaborn as sns"
   ]
  },
  {
   "cell_type": "code",
   "execution_count": 2,
   "id": "8c055e5b",
   "metadata": {},
   "outputs": [],
   "source": [
    "# This one will be visible\n",
    "import networkx as nx\n",
    "from os.path import join as pjoin\n",
    "from myterial import orange, blue_grey\n",
    "from IPython.display import display, IFrame, HTML\n",
    "from matplotlib.colors import rgb2hex, to_rgb\n",
    "import matplotlib.pyplot as plt\n",
    "import seaborn as sns"
   ]
  },
  {
   "cell_type": "markdown",
   "id": "41da7326",
   "metadata": {},
   "source": [
    "## Enjoy\n",
    "\n",
    "Let me know if something doesn't work or you have any questions."
   ]
  },
  {
   "cell_type": "code",
   "execution_count": null,
   "id": "9e7bdc2c",
   "metadata": {},
   "outputs": [],
   "source": []
  }
 ],
 "metadata": {
  "kernelspec": {
   "display_name": "Python 3",
   "language": "python",
   "name": "python3"
  },
  "language_info": {
   "codemirror_mode": {
    "name": "ipython",
    "version": 3
   },
   "file_extension": ".py",
   "mimetype": "text/x-python",
   "name": "python",
   "nbconvert_exporter": "python",
   "pygments_lexer": "ipython3",
   "version": "3.8.3"
  }
 },
 "nbformat": 4,
 "nbformat_minor": 5
}
